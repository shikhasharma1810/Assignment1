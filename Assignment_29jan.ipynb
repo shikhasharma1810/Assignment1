{
 "cells": [
  {
   "cell_type": "code",
   "execution_count": null,
   "id": "48f43ce1-e8f5-4c37-acf4-9ef96d20f607",
   "metadata": {},
   "outputs": [],
   "source": [
    "1. Who developed Python Programming language?\n",
    "\n",
    "Python is a dynamic, high-level, free open source, and interpreted programming language. It supports object-oriented \n",
    "programming as well as procedural-oriented programming. In Python, we don’t need to declare the type of variable because \n",
    "it is a dynamically typed language. For example, x = 10 Here, x can be anything such as String, int, etc."
   ]
  },
  {
   "cell_type": "code",
   "execution_count": null,
   "id": "748e7ca1-9731-4aed-a041-9d8920547909",
   "metadata": {},
   "outputs": [],
   "source": [
    "2. Which type of programming does Python support? \n",
    "\n",
    "Python is an interpreted, interactive, object-oriented programming language. It incorporates modules, exceptions, dynamic typing,\n",
    "very high level dynamic data types, and classes. It supports multiple programming paradigms beyond object-oriented programming, such\n",
    "as procedural and functional programming."
   ]
  },
  {
   "cell_type": "code",
   "execution_count": null,
   "id": "d55d4009-f97d-4ed0-9f56-c412c86779d6",
   "metadata": {},
   "outputs": [],
   "source": [
    "3. Is Python case sensitive when dealing with Identifiers?\n",
    "\n",
    "Yes, Python is a case−sensitive programming language. This means that it considers uppercase and lowercase letters\n",
    "differently.As a result, in Python, we cannot use two terms with the same characters but different cases interchangeably."
   ]
  },
  {
   "cell_type": "code",
   "execution_count": null,
   "id": "7c7b4270-6e0c-443d-a6d6-0a027be3d7dc",
   "metadata": {},
   "outputs": [],
   "source": [
    "4. What is the correct extension of the Python file?\n",
    "\n",
    "Python files have extension .py.These files contain Python code that can be executed by a Python interpreter. \n",
    "Python source code is written in files with a .py extension. For example, a file named \"my_script.py\" contains Python \n",
    "code that can be executed by a Python interpreter."
   ]
  },
  {
   "cell_type": "code",
   "execution_count": null,
   "id": "68148e1c-c9fb-426d-91bc-48e582da1ca4",
   "metadata": {},
   "outputs": [],
   "source": [
    "5. Is Python code compiled or interpreted?\n",
    "\n",
    "Python is an interpreted language, which means the source code of a Python program is converted into bytecode that is\n",
    "then executed by the Python virtual machine. Python is different from major compiled languages, such as C and C + +,\n",
    "as Python code is not required to be built and linked like code for these languages."
   ]
  },
  {
   "cell_type": "code",
   "execution_count": null,
   "id": "5f579797-3c89-43ab-bbba-212260767e91",
   "metadata": {},
   "outputs": [],
   "source": [
    "6. Name a few blocks of code used to define a Python language.\n",
    "\n",
    "#Printing nos. using while loop\n",
    "a=1\n",
    "while a<=10:\n",
    "    print (a)\n",
    "    a=a+1"
   ]
  },
  {
   "cell_type": "code",
   "execution_count": null,
   "id": "9817dbed-87dc-4936-a5d3-7db21b2b8c5a",
   "metadata": {},
   "outputs": [],
   "source": [
    "7. State a character used to give single-line comments in Python.\n",
    "\n",
    "We can write a single-line comment by adding a single '#' character before any statement or line of code.\n",
    "Ex: # This is a Comment\n",
    "print(\"Hello world\")"
   ]
  },
  {
   "cell_type": "code",
   "execution_count": null,
   "id": "acf8738f-fa96-44e2-b770-91f1ca755278",
   "metadata": {},
   "outputs": [],
   "source": [
    "8. Mention functions which can help us to find the version of Python that we are currently working on.\n",
    "\n",
    "The function sys.version can help us to find the version of python that we are currently working on. \n",
    "It also contains information on the build number and compiler used. For example, 3.5.2, 2.7.3 etc. this function \n",
    "also returns the current date, time, bits etc along with the version."
   ]
  },
  {
   "cell_type": "code",
   "execution_count": null,
   "id": "deeba2f4-8ff3-4210-9df2-568bd123f7e1",
   "metadata": {},
   "outputs": [],
   "source": [
    "9. Python supports the creation of anonymous functions at runtime, using a construct called______\n",
    "\n",
    "Python supports the creation of anonymous functions (i.e. functions that are not bound to a name) at runtime, using a\n",
    "construct called lambda. This is not exactly the same as lambda in functional programming languages such as Lisp, but it\n",
    "is a very powerful concept i.e. well integrated into Python and is often used in conjunction with typical functional \n",
    "concepts like filter(), map() and reduce()."
   ]
  },
  {
   "cell_type": "code",
   "execution_count": null,
   "id": "ac9765c3-d6ca-4003-81c2-670c4659e695",
   "metadata": {},
   "outputs": [],
   "source": [
    "10. What does pip stand for Python?\n",
    "\n",
    "PIP is a recursive acronym for “Preferred Installer Program” or PIP Installs Packages. Pip is a package manager for \n",
    "Python that allows you to install additional libraries and packages that are not part of the standard Python library\n",
    "such as the ones found in the Python Package Index."
   ]
  },
  {
   "cell_type": "code",
   "execution_count": null,
   "id": "daa14bbe-09d1-45d2-8112-56a710e75578",
   "metadata": {},
   "outputs": [],
   "source": [
    "11. Mention a few built-in-functions in Python.\n",
    "\n",
    "Python has a set of built-in functions.\n",
    "\n",
    "bool() Returns the boolean value of the specified object\n",
    "float()\tReturns a floating point number\n",
    "input()\tAllowing user input\n",
    "len()\tReturns the length of an object\n",
    "list()\tReturns a list\n",
    "range()\tReturns a sequence of numbers, starting from 0 and increments by 1 (by default)\n",
    "set()\tReturns a new set object\n",
    "str()\tReturns a string object\n",
    "sum()\tSums the items of an iterator\n",
    "tuple()\tReturns a tuple"
   ]
  },
  {
   "cell_type": "code",
   "execution_count": null,
   "id": "f705701f-6f54-4442-82cf-a9783ff6bc18",
   "metadata": {},
   "outputs": [],
   "source": [
    "12. What is the maximum possible length in Python?\n",
    "\n",
    "In Python, the highest possible length of an identifier is 79 characters. "
   ]
  },
  {
   "cell_type": "code",
   "execution_count": null,
   "id": "339057ea-8df6-4ce3-b35c-0710a00c21dc",
   "metadata": {},
   "outputs": [],
   "source": [
    "13. What are the benefits of using Python?\n",
    "\n",
    "-Presence of third-party modules \n",
    "-Extensive support libraries(NumPy for numerical calculations, Pandas for data analytics, etc.) \n",
    "-Open source and large active community base \n",
    "-Versatile, Easy to read, learn and write\n",
    "-User-friendly data structures \n",
    "-High-level language \n",
    "-Dynamically typed language(No need to mention data type based on the value assigned, it takes data type) \n",
    "-Object-Oriented and Procedural  Programming language\n",
    "-Portable and Interactive\n",
    "-Ideal for prototypes – provide more functionality with less coding\n",
    "-Highly Efficient(Python’s clean object-oriented design provides enhanced process control, and the language is equipped with\n",
    "excellent text processing and integration capabilities, as well as its own unit testing framework, which makes it mor\n",
    "efficient.)\n",
    "-Internet of Things(IoT) Opportunities\n",
    "-Interpreted Language\n",
    "-Portable across Operating systems "
   ]
  },
  {
   "cell_type": "code",
   "execution_count": null,
   "id": "ebd1002f-d30b-465c-baef-05f6f929253e",
   "metadata": {},
   "outputs": [],
   "source": [
    "14. How is memory managed in Python?\n",
    "\n",
    "Python uses the dynamic memory allocation which is managed by the Heap data structure. Memory Heap holds the objects\n",
    "and other data structures that will be used in the program. Python memory manager manages the allocation or de-allocation \n",
    "of the heap memory space through the API functions."
   ]
  },
  {
   "cell_type": "code",
   "execution_count": null,
   "id": "3fa0ecce-188f-4ee8-bb55-2e0528b79145",
   "metadata": {},
   "outputs": [],
   "source": [
    "15. How to install Python on Windows and set path variables?\n",
    "\n",
    "\n",
    "Here are the steps to install Python on Windows machine.\n",
    "\n",
    "a. Open a Web browser and go to https://www.python.org/downloads/.\n",
    "b. Follow the link for the Windows installer python-XYZ.msi file where XYZ is the version you need to install.\n",
    "c. To use this installer python-XYZ.msi, the Windows system must support Microsoft Installer 2.0. \n",
    "Save the installer file to your local machine and then run it to find out if your machine supports MSI.\n",
    "d. Run the downloaded file. This brings up the Python install wizard, which is really easy to use. \n",
    "Just accept the default settings, wait until the install is finished, and you are done.\n",
    "\n",
    "\n",
    "The PATH variable is a list of directories where each directory contains the executable file for a command.\n",
    "The complete path of python.exe can be added by:\n",
    "\n",
    "a. Right-clicking This PC and going to Properties.\n",
    "b. Clicking on the Advanced system settings in the menu on the left.\n",
    "c. Clicking on the Environment Variables button on the bottom right.\n",
    "d. In the System variables section, selecting the Path variable and clicking on Edit. \n",
    "The next screen will show all the directories that are currently a part of the PATH variable.\n",
    "\n",
    "Clicking on New and entering Python’s install directory."
   ]
  },
  {
   "cell_type": "code",
   "execution_count": null,
   "id": "e41cbb60-4ce2-433e-994f-e0c5d183b3af",
   "metadata": {},
   "outputs": [],
   "source": [
    "16. Is indentation required in Python?\n",
    "\n",
    "Indentation is important to Python because it’s how you determine scope. Scope is how Python knows what code belongs to \n",
    "what part of the program."
   ]
  }
 ],
 "metadata": {
  "kernelspec": {
   "display_name": "Python 3 (ipykernel)",
   "language": "python",
   "name": "python3"
  },
  "language_info": {
   "codemirror_mode": {
    "name": "ipython",
    "version": 3
   },
   "file_extension": ".py",
   "mimetype": "text/x-python",
   "name": "python",
   "nbconvert_exporter": "python",
   "pygments_lexer": "ipython3",
   "version": "3.10.8"
  }
 },
 "nbformat": 4,
 "nbformat_minor": 5
}
